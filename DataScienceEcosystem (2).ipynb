{
 "cells": [
  {
   "cell_type": "markdown",
   "id": "e03c6620-f62f-49a8-8c77-291ba15b8e49",
   "metadata": {},
   "source": [
    "# Data Science Tools and Ecosystem"
   ]
  },
  {
   "cell_type": "markdown",
   "id": "6f565697-cb7c-43e1-a8f0-e6f9be1d5ae3",
   "metadata": {},
   "source": [
    "In this noted book, Data Science Tools and Ecosystems are summarized."
   ]
  },
  {
   "cell_type": "markdown",
   "id": "d009a93c-8ad9-40b6-8051-3765a3676697",
   "metadata": {},
   "source": [
    "Some of the popular languages that data Scientist us are:\n",
    "1. Python\n",
    "2. R\n",
    "3. Julia\n",
    "4. Java\n",
    "5. Scala\n",
    "6. SQL"
   ]
  },
  {
   "cell_type": "markdown",
   "id": "bd7904a7-0ca3-425f-9bd7-c4d9c5ff5ffa",
   "metadata": {},
   "source": [
    "Some of the commonly used libraries used by Data Scientists include:\n",
    "\n",
    "1. Python\n",
    "    1. NumPy\n",
    "    2. Scikit-learn\n",
    "    3. PyTorch\n",
    "    4. Pandas\n",
    "2. R\n",
    "    1. Dplyr\n",
    "    2. Stringr\n",
    "    3. GGplot\n",
    "    4. caret\n",
    "3. SQL\n",
    "    1. Microsoft SQL Server\n",
    "    2. SQLite\n",
    "    3. PostgreSQL\n",
    "    4. MySQL"
   ]
  },
  {
   "cell_type": "markdown",
   "id": "f7d6a57d-cb3a-43de-97c2-e31b8b4a3711",
   "metadata": {},
   "source": [
    "|Data Science Tools|\n",
    "|---|\n",
    "|Git|\n",
    "|TensorFlow|\n",
    "|Ruby|\n",
    "|docker|"
   ]
  },
  {
   "cell_type": "markdown",
   "id": "d957d7fb-5b95-4285-842b-b95c31c0745b",
   "metadata": {},
   "source": [
    "### Below are a few examples of evaluating arithmetic expressions in python."
   ]
  },
  {
   "cell_type": "code",
   "execution_count": 1,
   "id": "2ccd3a10-7e30-45b1-8f17-4b095c805c09",
   "metadata": {},
   "outputs": [
    {
     "data": {
      "text/plain": [
       "17"
      ]
     },
     "execution_count": 1,
     "metadata": {},
     "output_type": "execute_result"
    }
   ],
   "source": [
    "(3*4)+5"
   ]
  },
  {
   "cell_type": "markdown",
   "id": "e1604623-678d-44bb-ae74-de40ad7e9eee",
   "metadata": {},
   "source": [
    "this will convert 200 minutes in to hours by diving by 60"
   ]
  },
  {
   "cell_type": "code",
   "execution_count": 5,
   "id": "e79bda0d-dbd1-463c-a2b7-c4fbdd8c1920",
   "metadata": {},
   "outputs": [
    {
     "name": "stdout",
     "output_type": "stream",
     "text": [
      "Converted sec value in hour: 3\n",
      "converted sec value in minutes: 20\n"
     ]
    }
   ],
   "source": [
    "sec =12000\n",
    "sec_value = sec % (24 * 3600)\n",
    "hour_value = sec_value // 3600\n",
    "sec_value %= 3600\n",
    "min_value = sec_value //60\n",
    "sec_value %= 60\n",
    "print(\"Converted sec value in hour:\", hour_value)\n",
    "print(\"converted sec value in minutes:\",min_value)"
   ]
  },
  {
   "cell_type": "markdown",
   "id": "6c44fd98-12c1-4f59-bddd-5b3f9db33bad",
   "metadata": {},
   "source": [
    "**Objectives**\n",
    "- List popular languages for Data Science\n",
    "- List commonly used libraries for Data Science\n",
    "- List commonly used tools for Data Science\n",
    "- Show arithmetic expression in python\n",
    "- Show table configuration"
   ]
  },
  {
   "cell_type": "markdown",
   "id": "5472b692-3ff2-4de6-b258-b087819746fc",
   "metadata": {},
   "source": [
    "## Author\n",
    "Keith E Goodwin"
   ]
  },
  {
   "cell_type": "code",
   "execution_count": null,
   "id": "bf2e995a-f6b0-4792-b91d-47a014a1d9f5",
   "metadata": {},
   "outputs": [],
   "source": []
  }
 ],
 "metadata": {
  "kernelspec": {
   "display_name": "Python",
   "language": "python",
   "name": "conda-env-python-py"
  },
  "language_info": {
   "codemirror_mode": {
    "name": "ipython",
    "version": 3
   },
   "file_extension": ".py",
   "mimetype": "text/x-python",
   "name": "python",
   "nbconvert_exporter": "python",
   "pygments_lexer": "ipython3",
   "version": "3.7.12"
  }
 },
 "nbformat": 4,
 "nbformat_minor": 5
}
